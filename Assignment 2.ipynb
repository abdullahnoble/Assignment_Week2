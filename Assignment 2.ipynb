{
 "cells": [
  {
   "cell_type": "markdown",
   "metadata": {},
   "source": [
    "# Assignment 2\n",
    "## Part 1"
   ]
  },
  {
   "cell_type": "code",
   "execution_count": 18,
   "metadata": {},
   "outputs": [
    {
     "data": {
      "text/html": [
       "<div>\n",
       "<style scoped>\n",
       "    .dataframe tbody tr th:only-of-type {\n",
       "        vertical-align: middle;\n",
       "    }\n",
       "\n",
       "    .dataframe tbody tr th {\n",
       "        vertical-align: top;\n",
       "    }\n",
       "\n",
       "    .dataframe thead th {\n",
       "        text-align: right;\n",
       "    }\n",
       "</style>\n",
       "<table border=\"1\" class=\"dataframe\">\n",
       "  <thead>\n",
       "    <tr style=\"text-align: right;\">\n",
       "      <th></th>\n",
       "      <th>0</th>\n",
       "      <th>1</th>\n",
       "      <th>2</th>\n",
       "      <th>3</th>\n",
       "      <th>4</th>\n",
       "      <th>5</th>\n",
       "      <th>6</th>\n",
       "      <th>7</th>\n",
       "      <th>8</th>\n",
       "      <th>9</th>\n",
       "      <th>10</th>\n",
       "      <th>11</th>\n",
       "      <th>12</th>\n",
       "      <th>13</th>\n",
       "      <th>14</th>\n",
       "      <th>15</th>\n",
       "    </tr>\n",
       "  </thead>\n",
       "  <tbody>\n",
       "    <tr>\n",
       "      <th>0</th>\n",
       "      <td>{02A6460F-C1F3-4977-B7ED-2A77C79302AE}</td>\n",
       "      <td>52000</td>\n",
       "      <td>2001-12-07 00:00</td>\n",
       "      <td>DE6 1BL</td>\n",
       "      <td>S</td>\n",
       "      <td>N</td>\n",
       "      <td>F</td>\n",
       "      <td>1A</td>\n",
       "      <td>NaN</td>\n",
       "      <td>OLD HILL</td>\n",
       "      <td>ASHBOURNE</td>\n",
       "      <td>ASHBOURNE</td>\n",
       "      <td>DERBYSHIRE DALES</td>\n",
       "      <td>DERBYSHIRE</td>\n",
       "      <td>A</td>\n",
       "      <td>A</td>\n",
       "    </tr>\n",
       "    <tr>\n",
       "      <th>1</th>\n",
       "      <td>{5EEB0C41-09F5-4BDF-A73E-A4E72E20BFC4}</td>\n",
       "      <td>57000</td>\n",
       "      <td>2003-09-12 00:00</td>\n",
       "      <td>B36 0RA</td>\n",
       "      <td>T</td>\n",
       "      <td>N</td>\n",
       "      <td>F</td>\n",
       "      <td>44</td>\n",
       "      <td>NaN</td>\n",
       "      <td>GREENFINCH ROAD</td>\n",
       "      <td>BIRMINGHAM</td>\n",
       "      <td>BIRMINGHAM</td>\n",
       "      <td>SOLIHULL</td>\n",
       "      <td>WEST MIDLANDS</td>\n",
       "      <td>A</td>\n",
       "      <td>A</td>\n",
       "    </tr>\n",
       "    <tr>\n",
       "      <th>2</th>\n",
       "      <td>{09975216-3588-418C-B6C5-A5704B0E77DE}</td>\n",
       "      <td>69500</td>\n",
       "      <td>2005-12-21 00:00</td>\n",
       "      <td>OL16 2XR</td>\n",
       "      <td>T</td>\n",
       "      <td>N</td>\n",
       "      <td>L</td>\n",
       "      <td>143</td>\n",
       "      <td>NaN</td>\n",
       "      <td>BELFIELD ROAD</td>\n",
       "      <td>ROCHDALE</td>\n",
       "      <td>ROCHDALE</td>\n",
       "      <td>ROCHDALE</td>\n",
       "      <td>GREATER MANCHESTER</td>\n",
       "      <td>A</td>\n",
       "      <td>A</td>\n",
       "    </tr>\n",
       "    <tr>\n",
       "      <th>3</th>\n",
       "      <td>{44CB83B9-0EC3-48D4-9B8D-B34D13D3C09E}</td>\n",
       "      <td>84000</td>\n",
       "      <td>2001-01-31 00:00</td>\n",
       "      <td>SN1 4LJ</td>\n",
       "      <td>T</td>\n",
       "      <td>N</td>\n",
       "      <td>F</td>\n",
       "      <td>34</td>\n",
       "      <td>NaN</td>\n",
       "      <td>KINGSHILL ROAD</td>\n",
       "      <td>SWINDON</td>\n",
       "      <td>SWINDON</td>\n",
       "      <td>SWINDON</td>\n",
       "      <td>SWINDON</td>\n",
       "      <td>A</td>\n",
       "      <td>A</td>\n",
       "    </tr>\n",
       "    <tr>\n",
       "      <th>4</th>\n",
       "      <td>{74828706-CBFC-406D-B7B6-394B5863E22E}</td>\n",
       "      <td>110000</td>\n",
       "      <td>1998-02-27 00:00</td>\n",
       "      <td>OX3 8AJ</td>\n",
       "      <td>S</td>\n",
       "      <td>N</td>\n",
       "      <td>F</td>\n",
       "      <td>62</td>\n",
       "      <td>NaN</td>\n",
       "      <td>WHARTON ROAD</td>\n",
       "      <td>HEADINGTON</td>\n",
       "      <td>OXFORD</td>\n",
       "      <td>OXFORD</td>\n",
       "      <td>OXFORDSHIRE</td>\n",
       "      <td>A</td>\n",
       "      <td>A</td>\n",
       "    </tr>\n",
       "  </tbody>\n",
       "</table>\n",
       "</div>"
      ],
      "text/plain": [
       "                                       0       1                 2         3   \\\n",
       "0  {02A6460F-C1F3-4977-B7ED-2A77C79302AE}   52000  2001-12-07 00:00   DE6 1BL   \n",
       "1  {5EEB0C41-09F5-4BDF-A73E-A4E72E20BFC4}   57000  2003-09-12 00:00   B36 0RA   \n",
       "2  {09975216-3588-418C-B6C5-A5704B0E77DE}   69500  2005-12-21 00:00  OL16 2XR   \n",
       "3  {44CB83B9-0EC3-48D4-9B8D-B34D13D3C09E}   84000  2001-01-31 00:00   SN1 4LJ   \n",
       "4  {74828706-CBFC-406D-B7B6-394B5863E22E}  110000  1998-02-27 00:00   OX3 8AJ   \n",
       "\n",
       "  4  5  6    7    8                9           10          11  \\\n",
       "0  S  N  F   1A  NaN         OLD HILL   ASHBOURNE   ASHBOURNE   \n",
       "1  T  N  F   44  NaN  GREENFINCH ROAD  BIRMINGHAM  BIRMINGHAM   \n",
       "2  T  N  L  143  NaN    BELFIELD ROAD    ROCHDALE    ROCHDALE   \n",
       "3  T  N  F   34  NaN   KINGSHILL ROAD     SWINDON     SWINDON   \n",
       "4  S  N  F   62  NaN     WHARTON ROAD  HEADINGTON      OXFORD   \n",
       "\n",
       "                 12                  13 14 15  \n",
       "0  DERBYSHIRE DALES          DERBYSHIRE  A  A  \n",
       "1          SOLIHULL       WEST MIDLANDS  A  A  \n",
       "2          ROCHDALE  GREATER MANCHESTER  A  A  \n",
       "3           SWINDON             SWINDON  A  A  \n",
       "4            OXFORD         OXFORDSHIRE  A  A  "
      ]
     },
     "execution_count": 18,
     "metadata": {},
     "output_type": "execute_result"
    }
   ],
   "source": [
    "import pandas as pd\n",
    "df = pd.read_csv('houses.csv', header=None)\n",
    "df.head()"
   ]
  },
  {
   "cell_type": "code",
   "execution_count": 3,
   "metadata": {},
   "outputs": [
    {
     "data": {
      "text/plain": [
       "count    1.000000e+05\n",
       "mean     1.743868e+05\n",
       "std      3.514634e+05\n",
       "min      1.500000e+02\n",
       "25%      7.400000e+04\n",
       "50%      1.290000e+05\n",
       "75%      2.070000e+05\n",
       "max      4.846572e+07\n",
       "Name: 1, dtype: float64"
      ]
     },
     "execution_count": 3,
     "metadata": {},
     "output_type": "execute_result"
    }
   ],
   "source": [
    "df[1].describe()"
   ]
  },
  {
   "cell_type": "code",
   "execution_count": 2,
   "metadata": {},
   "outputs": [],
   "source": [
    "import matplotlib.pyplot as plt\n",
    "import numpy as np"
   ]
  },
  {
   "cell_type": "code",
   "execution_count": 20,
   "metadata": {},
   "outputs": [
    {
     "data": {
      "text/plain": [
       "array([       0,  5000000, 10000000, 15000000, 20000000, 25000000,\n",
       "       30000000, 35000000, 40000000, 45000000, 50000000])"
      ]
     },
     "execution_count": 20,
     "metadata": {},
     "output_type": "execute_result"
    }
   ],
   "source": [
    "arr = np.arange(0,55000000,5000000)\n",
    "arr"
   ]
  },
  {
   "cell_type": "code",
   "execution_count": 21,
   "metadata": {},
   "outputs": [
    {
     "data": {
      "text/plain": [
       "Text(0.5, 1.0, 'Histogram')"
      ]
     },
     "execution_count": 21,
     "metadata": {},
     "output_type": "execute_result"
    },
    {
     "data": {
      "image/png": "[encoded data removed]",
      "text/plain": [
       "<Figure size 432x288 with 1 Axes>"
      ]
     },
     "metadata": {
      "needs_background": "light"
     },
     "output_type": "display_data"
    }
   ],
   "source": [
    "plt.hist(df[1],arr,rwidth = 0.9)\n",
    "plt.ylabel('Number of Houses')\n",
    "plt.xlabel('Prices')\n",
    "plt.title('Histogram')"
   ]
  },
  {
   "cell_type": "markdown",
   "metadata": {},
   "source": [
    "Most of the Houses has a price range lying between 150-5000000 as shown in histogram but there are certain outilers too but their numbers are very less so they dont get to show up in the histogram significantly. The histogram plot is highly right skewed.\n",
    "\n",
    "If we use a shorter interval the plot will be much observable but that's practically very tough, so if we neglect the outliers and plot the histogram with shorter range the histogram will be much good looking."
   ]
  },
  {
   "cell_type": "code",
   "execution_count": 31,
   "metadata": {},
   "outputs": [
    {
     "data": {
      "text/plain": [
       "Text(0, 0.5, 'Number of houses')"
      ]
     },
     "execution_count": 31,
     "metadata": {},
     "output_type": "execute_result"
    },
    {
     "data": {
      "image/png": "[encoded data removed]",
      "text/plain": [
       "<Figure size 432x288 with 1 Axes>"
      ]
     },
     "metadata": {
      "needs_background": "light"
     },
     "output_type": "display_data"
    }
   ],
   "source": [
    "cond = df[13].str.find(\"LONDON\").replace(-1,0).astype(bool)\n",
    "not_in_london = df[cond == False]\n",
    "in_london = df[cond]\n",
    "\n",
    "plt.hist(in_london[1],arr,rwidth=0.9)\n",
    "plt.title('IN LONDON')\n",
    "plt.xlabel('Price')\n",
    "plt.ylabel('Number of houses')\n"
   ]
  },
  {
   "cell_type": "code",
   "execution_count": 30,
   "metadata": {},
   "outputs": [
    {
     "data": {
      "text/plain": [
       "Text(0, 0.5, 'Number of houses')"
      ]
     },
     "execution_count": 30,
     "metadata": {},
     "output_type": "execute_result"
    },
    {
     "data": {
      "image/png": "[encoded data removed]",
      "text/plain": [
       "<Figure size 432x288 with 1 Axes>"
      ]
     },
     "metadata": {
      "needs_background": "light"
     },
     "output_type": "display_data"
    }
   ],
   "source": [
    "plt.hist(not_in_london[1],arr,rwidth=0.9)\n",
    "plt.title('NOT IN LONDON')\n",
    "plt.xlabel('Price')\n",
    "plt.ylabel('Number of houses')"
   ]
  },
  {
   "cell_type": "code",
   "execution_count": 34,
   "metadata": {},
   "outputs": [
    {
     "data": {
      "text/plain": [
       "[68598.00781881908,\n",
       " 73166.26066666667,\n",
       " 77312.5258340114,\n",
       " 86292.72408906883,\n",
       " 95750.0684200846,\n",
       " 108670.09838895281,\n",
       " 118457.43881486676,\n",
       " 138073.43356418103,\n",
       " 153495.8707952389,\n",
       " 179574.2139294927,\n",
       " 196889.11458333334,\n",
       " 203369.58488647916,\n",
       " 217002.66481706258,\n",
       " 214767.53302961276,\n",
       " 213933.69204271442,\n",
       " 231462.19457735246,\n",
       " 237038.55021124473,\n",
       " 237101.6747311828,\n",
       " 270223.8266561927,\n",
       " 286850.15910614526,\n",
       " 304840.865747944,\n",
       " 290684.3399339934]"
      ]
     },
     "execution_count": 34,
     "metadata": {},
     "output_type": "execute_result"
    }
   ],
   "source": [
    "df[2] = pd.to_datetime(df[2])\n",
    "print(df[2].dt.year.min())\n",
    "print(df[2].dt.year.max())\n",
    "year = np.arange(1995,2017,1)\n",
    "a=[]\n",
    "for i in range(1995,2017):\n",
    "    a.append(df[df[2].dt.year == i])\n",
    "a\n",
    "\n",
    "b =[]\n",
    "for part in a:\n",
    "    b.append(part[1].mean())\n",
    "b\n",
    "    \n"
   ]
  },
  {
   "cell_type": "code",
   "execution_count": 35,
   "metadata": {},
   "outputs": [],
   "source": [
    "arr2 = np.arange(1995,2017)"
   ]
  },
  {
   "cell_type": "code",
   "execution_count": 39,
   "metadata": {},
   "outputs": [
    {
     "data": {
      "text/plain": [
       "Text(0.5, 1.0, 'Average price per year')"
      ]
     },
     "execution_count": 39,
     "metadata": {},
     "output_type": "execute_result"
    },
    {
     "data": {
      "image/png": "[encoded data removed]",
      "text/plain": [
       "<Figure size 432x288 with 1 Axes>"
      ]
     },
     "metadata": {
      "needs_background": "light"
     },
     "output_type": "display_data"
    }
   ],
   "source": [
    "plt.scatter(b,arr2)\n",
    "plt.ylabel('Year')\n",
    "plt.xlabel('Average Price')\n",
    "plt.title('Average price per year')"
   ]
  },
  {
   "cell_type": "markdown",
   "metadata": {},
   "source": [
    "## Part 2"
   ]
  },
  {
   "cell_type": "code",
   "execution_count": 52,
   "metadata": {},
   "outputs": [
    {
     "data": {
      "text/plain": [
       "array([0.54549625, 0.27847296, 0.26028508, 0.18222335, 0.4410324 ,\n",
       "       0.27232865, 0.74894759, 0.2974943 , 0.60648226, 0.66940071,\n",
       "       0.81259854, 0.54224124, 0.58129725, 0.72234422, 0.33045765,\n",
       "       0.61131392, 0.12429422, 0.65352145, 0.72521315, 0.30042822,\n",
       "       0.65967945, 0.95370754, 0.44506399, 0.33496047, 0.18118545,\n",
       "       0.69906722, 0.35265694, 0.20703198, 0.12332276, 0.94745183,\n",
       "       0.81071958, 0.25783124, 0.51692937, 0.3777062 , 0.46167899,\n",
       "       0.54787322, 0.46154382, 0.42585245, 0.4561215 , 0.40791718,\n",
       "       0.18617936, 0.58682824, 0.63248745, 0.99538941, 0.63605263,\n",
       "       0.67754655, 0.39063285, 0.56744324, 0.07642651, 0.94319258,\n",
       "       0.19361539, 0.74809359, 0.16119178, 0.70347937, 0.73443875,\n",
       "       0.22876014, 0.23233988, 0.27208395, 0.37032887, 0.09047448,\n",
       "       0.02383301, 0.51693173, 0.16439705, 0.08418469, 0.9678569 ,\n",
       "       0.47764744, 0.33024218, 0.03018143, 0.1194515 , 0.21303893,\n",
       "       0.99214661, 0.15591512, 0.20096607, 0.14021294, 0.19322704,\n",
       "       0.61179101, 0.73734604, 0.96114146, 0.01359703, 0.57134349,\n",
       "       0.50120687, 0.31553238, 0.58017903, 0.30124113, 0.23101874,\n",
       "       0.50285843, 0.98813596, 0.3929325 , 0.27270453, 0.22854027,\n",
       "       0.97653086, 0.21246192, 0.71522694, 0.31576906, 0.79705461,\n",
       "       0.23200812, 0.10400048, 0.69308092, 0.37929472, 0.13587529])"
      ]
     },
     "execution_count": 52,
     "metadata": {},
     "output_type": "execute_result"
    }
   ],
   "source": [
    "rand_arr = np.random.rand(100)\n",
    "rand_arr"
   ]
  },
  {
   "cell_type": "code",
   "execution_count": 53,
   "metadata": {},
   "outputs": [
    {
     "data": {
      "text/plain": [
       "(array([3., 3., 6., 8., 9., 7., 7., 6., 4., 4., 7., 5., 5., 6., 8., 1., 2.,\n",
       "        0., 2.]),\n",
       " array([0.  , 0.05, 0.1 , 0.15, 0.2 , 0.25, 0.3 , 0.35, 0.4 , 0.45, 0.5 ,\n",
       "        0.55, 0.6 , 0.65, 0.7 , 0.75, 0.8 , 0.85, 0.9 , 0.95]),\n",
       " <a list of 19 Patch objects>)"
      ]
     },
     "execution_count": 53,
     "metadata": {},
     "output_type": "execute_result"
    },
    {
     "data": {
      "image/png": "[encoded data removed]",
      "text/plain": [
       "<Figure size 432x288 with 1 Axes>"
      ]
     },
     "metadata": {
      "needs_background": "light"
     },
     "output_type": "display_data"
    }
   ],
   "source": [
    "arr3 = np.arange(0,1,0.05)\n",
    "plt.hist(rand_arr, arr3)"
   ]
  },
  {
   "cell_type": "code",
   "execution_count": 6,
   "metadata": {},
   "outputs": [
    {
     "data": {
      "text/plain": [
       "array([0.48235146, 0.82348241, 0.92101647, 0.09900552, 0.83516591,\n",
       "       0.2414054 , 0.77361357, 0.14840986, 0.47481233, 0.30543144,\n",
       "       0.99822427, 0.48782603, 0.31301193, 0.26516258, 0.42172793,\n",
       "       0.72641087, 0.89460672, 0.69632642, 0.75384305, 0.19499838,\n",
       "       0.87599024, 0.3684915 , 0.81027283, 0.83549198, 0.77981797,\n",
       "       0.70229911, 0.50756687, 0.90022224, 0.60855907, 0.9075714 ,\n",
       "       0.94661942, 0.23962829, 0.64537033, 0.07555539, 0.39394741,\n",
       "       0.11998295, 0.71394286, 0.88288152, 0.58765075, 0.23450485,\n",
       "       0.97455935, 0.78002033, 0.12153004, 0.02640202, 0.14366472,\n",
       "       0.82686587, 0.47955461, 0.33313149, 0.63025433, 0.19328833,\n",
       "       0.6346059 , 0.91005915, 0.84727092, 0.75147889, 0.93595956,\n",
       "       0.58269245, 0.31637174, 0.56762175, 0.21762739, 0.43791071,\n",
       "       0.89619287, 0.47052973, 0.88846637, 0.9912666 , 0.83500025,\n",
       "       0.60957656, 0.95911287, 0.68246579, 0.07396396, 0.85787247,\n",
       "       0.14278719, 0.19471783, 0.40378561, 0.5681189 , 0.23250851,\n",
       "       0.69402256, 0.78013747, 0.7728544 , 0.28302799, 0.92046355,\n",
       "       0.47150402, 0.11826275, 0.50812539, 0.33580606, 0.64959886,\n",
       "       0.68089971, 0.91908408, 0.89816472, 0.68115454, 0.43770587,\n",
       "       0.23666197, 0.94542018, 0.84592796, 0.94078134, 0.80699748,\n",
       "       0.08826258, 0.62371383, 0.61475059, 0.35926727, 0.28854777,\n",
       "       0.16217728, 0.0930839 , 0.05988999, 0.40677348, 0.9544929 ,\n",
       "       0.64195887, 0.58789386, 0.66052965, 0.63032669, 0.60645226,\n",
       "       0.98305138, 0.48043457, 0.27890086, 0.45042771, 0.46758744,\n",
       "       0.76112973, 0.46663818, 0.9768106 , 0.42488208, 0.36974055,\n",
       "       0.19054668, 0.15056012, 0.0863188 , 0.85190751, 0.42954187,\n",
       "       0.08489586, 0.95272476, 0.9577581 , 0.06908328, 0.30534488,\n",
       "       0.54638903, 0.59440503, 0.47724602, 0.36207749, 0.79021439,\n",
       "       0.6096581 , 0.87581314, 0.08067767, 0.83495832, 0.43774855,\n",
       "       0.14103044, 0.13342992, 0.53456632, 0.26728971, 0.57409968,\n",
       "       0.36944458, 0.77043918, 0.36953808, 0.81440496, 0.30916753,\n",
       "       0.60417453, 0.09829021, 0.45256116, 0.00961273, 0.00582458,\n",
       "       0.87535003, 0.15429362, 0.86850113, 0.74053913, 0.78258689,\n",
       "       0.51335913, 0.94683655, 0.05871944, 0.25997744, 0.9803314 ,\n",
       "       0.1690753 , 0.6476593 , 0.62549586, 0.32225501, 0.36487697,\n",
       "       0.22042963, 0.14692777, 0.59714785, 0.82196448, 0.54391063,\n",
       "       0.71651667, 0.0609827 , 0.78840926, 0.83784333, 0.23827697,\n",
       "       0.9410841 , 0.27625999, 0.8986833 , 0.1372505 , 0.90693742,\n",
       "       0.90361004, 0.09831971, 0.20477721, 0.68287726, 0.15866205,\n",
       "       0.72303185, 0.37027193, 0.05298982, 0.42740101, 0.16457663,\n",
       "       0.8853316 , 0.77497822, 0.53653621, 0.57458244, 0.59739882])"
      ]
     },
     "execution_count": 6,
     "metadata": {},
     "output_type": "execute_result"
    }
   ],
   "source": [
    "rand_arr = np.random.rand(200)\n",
    "rand_arr"
   ]
  },
  {
   "cell_type": "code",
   "execution_count": 7,
   "metadata": {},
   "outputs": [
    {
     "data": {
      "text/plain": [
       "(array([ 3., 15., 10., 10.,  9.,  7.,  8.,  9.,  9., 12.,  7., 10., 15.,\n",
       "         7.,  6., 13., 13., 13., 14.]),\n",
       " array([0.  , 0.05, 0.1 , 0.15, 0.2 , 0.25, 0.3 , 0.35, 0.4 , 0.45, 0.5 ,\n",
       "        0.55, 0.6 , 0.65, 0.7 , 0.75, 0.8 , 0.85, 0.9 , 0.95]),\n",
       " <a list of 19 Patch objects>)"
      ]
     },
     "execution_count": 7,
     "metadata": {},
     "output_type": "execute_result"
    },
    {
     "data": {
      "image/png": "[encoded data removed]",
      "text/plain": [
       "<Figure size 432x288 with 1 Axes>"
      ]
     },
     "metadata": {
      "needs_background": "light"
     },
     "output_type": "display_data"
    }
   ],
   "source": [
    "arr3 = np.arange(0,1,0.05)\n",
    "plt.hist(rand_arr, arr3)"
   ]
  },
  {
   "cell_type": "code",
   "execution_count": 8,
   "metadata": {},
   "outputs": [],
   "source": [
    "rand_arr = np.random.rand(1000)"
   ]
  },
  {
   "cell_type": "code",
   "execution_count": 9,
   "metadata": {},
   "outputs": [
    {
     "data": {
      "text/plain": [
       "(array([55., 55., 58., 48., 57., 42., 40., 58., 42., 39., 47., 51., 60.,\n",
       "        43., 42., 52., 62., 49., 44.]),\n",
       " array([0.  , 0.05, 0.1 , 0.15, 0.2 , 0.25, 0.3 , 0.35, 0.4 , 0.45, 0.5 ,\n",
       "        0.55, 0.6 , 0.65, 0.7 , 0.75, 0.8 , 0.85, 0.9 , 0.95]),\n",
       " <a list of 19 Patch objects>)"
      ]
     },
     "execution_count": 9,
     "metadata": {},
     "output_type": "execute_result"
    },
    {
     "data": {
      "image/png": "[encoded data removed]",
      "text/plain": [
       "<Figure size 432x288 with 1 Axes>"
      ]
     },
     "metadata": {
      "needs_background": "light"
     },
     "output_type": "display_data"
    }
   ],
   "source": [
    "plt.hist(rand_arr, arr3)"
   ]
  },
  {
   "cell_type": "markdown",
   "metadata": {},
   "source": [
    "As the size of random array increases the dsitribution becomes more uniform."
   ]
  },
  {
   "cell_type": "code",
   "execution_count": 17,
   "metadata": {},
   "outputs": [
    {
     "data": {
      "text/plain": [
       "array([1.03445086, 1.13218605, 1.03262132, 1.10090648, 1.00096635,\n",
       "       1.06927626, 1.13029395, 1.04627778, 1.09069682, 0.96352522,\n",
       "       1.15789554, 1.01355934, 1.07205231, 1.00402364, 0.95542907,\n",
       "       0.95050603, 0.80738847, 0.75892538, 1.12334429, 1.02488741,\n",
       "       0.93282176, 0.97092099, 0.97643688, 0.76748854, 0.97718114,\n",
       "       0.92331786, 1.11515428, 1.00221218, 0.96649658, 1.09704435,\n",
       "       1.08673392, 1.0474    , 1.08859862, 0.98141679, 1.03570406,\n",
       "       0.96791094, 0.90577386, 0.92119305, 1.02157776, 1.02610613,\n",
       "       1.09102001, 1.07992396, 0.83648594, 1.11415805, 1.04099944,\n",
       "       1.05657906, 1.00985415, 1.08620108, 0.9932384 , 0.99724079,\n",
       "       0.97025711, 1.04952015, 0.93236204, 0.92838295, 0.95494588,\n",
       "       0.79351822, 1.02876313, 1.05647238, 0.84559968, 1.00363212,\n",
       "       1.00908064, 0.80559731, 0.89994059, 0.97325566, 0.98815103,\n",
       "       0.94551767, 1.08102516, 1.03279877, 1.02063381, 0.9021902 ,\n",
       "       1.08719782, 0.87173404, 1.00751836, 0.85639822, 1.19379578,\n",
       "       0.96972151, 0.97898354, 1.18032906, 1.01849362, 1.07499882,\n",
       "       1.02339475, 1.01521487, 0.91150896, 1.00285427, 1.04289626,\n",
       "       1.0070603 , 0.97431253, 0.92178983, 0.88534339, 1.08690839,\n",
       "       0.98567902, 1.08988575, 0.93105718, 0.95461875, 0.9805528 ,\n",
       "       1.02674898, 1.03309588, 0.84710833, 1.0726988 , 1.24078304])"
      ]
     },
     "execution_count": 17,
     "metadata": {},
     "output_type": "execute_result"
    }
   ],
   "source": [
    "normal_arr = np.random.normal(1,0.1,100)\n",
    "normal_arr"
   ]
  },
  {
   "cell_type": "code",
   "execution_count": 16,
   "metadata": {},
   "outputs": [],
   "source": [
    "arr4 = np.arange(-0.5,2,0.1)"
   ]
  },
  {
   "cell_type": "code",
   "execution_count": 15,
   "metadata": {},
   "outputs": [
    {
     "data": {
      "text/plain": [
       "(array([ 0.,  0.,  0.,  0.,  0.,  0.,  0.,  0.,  0.,  0.,  0.,  1.,  0.,\n",
       "        14., 27., 36., 19.,  3.,  0.,  0.,  0.,  0.,  0.,  0.]),\n",
       " array([-5.00000000e-01, -4.00000000e-01, -3.00000000e-01, -2.00000000e-01,\n",
       "        -1.00000000e-01, -1.11022302e-16,  1.00000000e-01,  2.00000000e-01,\n",
       "         3.00000000e-01,  4.00000000e-01,  5.00000000e-01,  6.00000000e-01,\n",
       "         7.00000000e-01,  8.00000000e-01,  9.00000000e-01,  1.00000000e+00,\n",
       "         1.10000000e+00,  1.20000000e+00,  1.30000000e+00,  1.40000000e+00,\n",
       "         1.50000000e+00,  1.60000000e+00,  1.70000000e+00,  1.80000000e+00,\n",
       "         1.90000000e+00]),\n",
       " <a list of 24 Patch objects>)"
      ]
     },
     "execution_count": 15,
     "metadata": {},
     "output_type": "execute_result"
    },
    {
     "data": {
      "image/png": "[encoded data removed]",
      "text/plain": [
       "<Figure size 432x288 with 1 Axes>"
      ]
     },
     "metadata": {
      "needs_background": "light"
     },
     "output_type": "display_data"
    }
   ],
   "source": [
    "plt.hist(normal_arr, arr4)"
   ]
  },
  {
   "cell_type": "code",
   "execution_count": null,
   "metadata": {},
   "outputs": [],
   "source": []
  }
 ],
 "metadata": {
  "kernelspec": {
   "display_name": "Python 3",
   "language": "python",
   "name": "python3"
  },
  "language_info": {
   "codemirror_mode": {
    "name": "ipython",
    "version": 3
   },
   "file_extension": ".py",
   "mimetype": "text/x-python",
   "name": "python",
   "nbconvert_exporter": "python",
   "pygments_lexer": "ipython3",
   "version": "3.7.3"
  }
 },
 "nbformat": 4,
 "nbformat_minor": 2
}
